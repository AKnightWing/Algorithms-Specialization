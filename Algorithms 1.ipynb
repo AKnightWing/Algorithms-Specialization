{
 "cells": [
  {
   "cell_type": "markdown",
   "metadata": {},
   "source": [
    "<div style=\"text-align: center\">\n",
    "    <font size=\"6\">\n",
    "        <b>\n",
    "            Algorithms 1: Divide and Conquer\n",
    "        </b>\n",
    "    </font>\n",
    "</div>\n"
   ]
  },
  {
   "cell_type": "code",
   "execution_count": 1,
   "metadata": {},
   "outputs": [],
   "source": [
    "import copy\n",
    "import numpy as np\n",
    "from time import process_time\n",
    "import math"
   ]
  },
  {
   "cell_type": "markdown",
   "metadata": {},
   "source": [
    "# 1. Integer Multiplication"
   ]
  },
  {
   "cell_type": "code",
   "execution_count": 2,
   "metadata": {},
   "outputs": [
    {
     "data": {
      "text/plain": [
       "7006652"
      ]
     },
     "execution_count": 2,
     "metadata": {},
     "output_type": "execute_result"
    }
   ],
   "source": [
    "x = 5678\n",
    "y = 1234\n",
    "x*y"
   ]
  },
  {
   "cell_type": "markdown",
   "metadata": {},
   "source": [
    "### Simple Loop"
   ]
  },
  {
   "cell_type": "code",
   "execution_count": 3,
   "metadata": {},
   "outputs": [],
   "source": [
    "def simple_loop_mult(x,y):\n",
    "    minnum = min(x,y)\n",
    "    maxnum = max(x,y)\n",
    "    s=0\n",
    "    for i in range (minnum):\n",
    "        s+= maxnum\n",
    "    return s"
   ]
  },
  {
   "cell_type": "code",
   "execution_count": 4,
   "metadata": {},
   "outputs": [
    {
     "data": {
      "text/plain": [
       "7006652"
      ]
     },
     "execution_count": 4,
     "metadata": {},
     "output_type": "execute_result"
    }
   ],
   "source": [
    "simple_loop_mult(x,y)"
   ]
  },
  {
   "cell_type": "markdown",
   "metadata": {},
   "source": [
    "This algorithm is ridiculously bad, as the it's time complexity is $\\mathcal{O}(m)$ where m is minimum of both numbers, and not the length of the number."
   ]
  },
  {
   "cell_type": "markdown",
   "metadata": {},
   "source": [
    "### Grade School Algorithm"
   ]
  },
  {
   "cell_type": "code",
   "execution_count": 5,
   "metadata": {},
   "outputs": [],
   "source": [
    "def grade_school_mult(n1,n2):\n",
    "    n1list = [int(somenum) for somenum in str(n1)]\n",
    "    n2list = [int(somenum) for somenum in str(n2)]\n",
    "    \n",
    "    final_res = 0\n",
    "    for i in range(len(n1list)):\n",
    "        n1dig = n1list[-i-1]\n",
    "        ipower = 10**i\n",
    "        carry = 0\n",
    "        inner_res = 0\n",
    "        for j in range(len(n2list)):\n",
    "            n2dig = n2list[-j-1]\n",
    "            raw_prod = (n2dig*n1dig) + carry\n",
    "            carry = raw_prod//10\n",
    "            prod = raw_prod%10\n",
    "            inner_res += ((10**j) * prod)\n",
    "        inner_res += ((10**(j+1)) * carry)\n",
    "        final_res += ((10**i) * inner_res)\n",
    "        \n",
    "    return final_res"
   ]
  },
  {
   "cell_type": "code",
   "execution_count": 6,
   "metadata": {},
   "outputs": [
    {
     "data": {
      "text/plain": [
       "7006652"
      ]
     },
     "execution_count": 6,
     "metadata": {},
     "output_type": "execute_result"
    }
   ],
   "source": [
    "grade_school_mult(x,y)"
   ]
  },
  {
   "cell_type": "markdown",
   "metadata": {},
   "source": [
    "### Karatsuba's Algorithm"
   ]
  },
  {
   "cell_type": "code",
   "execution_count": 7,
   "metadata": {},
   "outputs": [],
   "source": [
    "def karatsuba(x,y):\n",
    "    if x<10 and y<10:\n",
    "        return x*y\n",
    "    if x>y:\n",
    "        max_length = len(str(x))\n",
    "        max_num = x\n",
    "        min_num = y\n",
    "    else:\n",
    "        max_length = len(str(y))\n",
    "        max_num = y\n",
    "        min_num = x\n",
    "    if max_length%2==0:\n",
    "        first_multiplier = max_length\n",
    "    else:\n",
    "        first_multiplier = max_length - 1\n",
    "    div_length = max_length//2\n",
    "    a = x//(10**div_length)\n",
    "    b = x%(10**div_length)\n",
    "    c = y//(10**div_length)\n",
    "    d = y%(10**div_length)\n",
    "    ac = karatsuba(a,c)\n",
    "    bd = karatsuba(b,d)\n",
    "    sumterm = karatsuba(a+b,c+d)\n",
    "    leftoversum = sumterm - ac - bd\n",
    "    \n",
    "    product = (10**first_multiplier*ac) + (10**div_length*leftoversum) + bd\n",
    "    return product"
   ]
  },
  {
   "cell_type": "code",
   "execution_count": 8,
   "metadata": {},
   "outputs": [
    {
     "data": {
      "text/plain": [
       "7006652"
      ]
     },
     "execution_count": 8,
     "metadata": {},
     "output_type": "execute_result"
    }
   ],
   "source": [
    "karatsuba(x,y)"
   ]
  },
  {
   "cell_type": "code",
   "execution_count": 9,
   "metadata": {},
   "outputs": [
    {
     "name": "stdout",
     "output_type": "stream",
     "text": [
      "Wall time: 3.89 ms\n"
     ]
    },
    {
     "data": {
      "text/plain": [
       "8539734222673567065463550869546574495034888535765114961879601127067743044893204848617875072216249073013374895871952806582723184"
      ]
     },
     "execution_count": 9,
     "metadata": {},
     "output_type": "execute_result"
    }
   ],
   "source": [
    "%%time\n",
    "#https://www.coursera.org/learn/algorithms-divide-conquer/exam/srsxO/programming-assignment-1/attempt\n",
    "n1 = 3141592653589793238462643383279502884197169399375105820974944592\n",
    "n2 = 2718281828459045235360287471352662497757247093699959574966967627\n",
    "karatsuba(n1,n2)"
   ]
  },
  {
   "cell_type": "markdown",
   "metadata": {},
   "source": [
    "# 2. Merge Sort"
   ]
  },
  {
   "cell_type": "code",
   "execution_count": 10,
   "metadata": {},
   "outputs": [],
   "source": [
    "inp = [57,42,63,32,130,6,23,45]"
   ]
  },
  {
   "cell_type": "code",
   "execution_count": 11,
   "metadata": {},
   "outputs": [
    {
     "data": {
      "text/plain": [
       "[6, 23, 32, 42, 45, 57, 63, 130]"
      ]
     },
     "execution_count": 11,
     "metadata": {},
     "output_type": "execute_result"
    }
   ],
   "source": [
    "sorted(inp)"
   ]
  },
  {
   "cell_type": "code",
   "execution_count": 12,
   "metadata": {},
   "outputs": [],
   "source": [
    "def merge_sort(arr2):\n",
    "    arr = copy.deepcopy(arr2)\n",
    "    n = len(arr)\n",
    "    split = n//2\n",
    "    #Base Case\n",
    "    if n==1:\n",
    "        return arr\n",
    "    \n",
    "    #Split\n",
    "    left = arr[:split]\n",
    "    right = arr[split:]\n",
    "    leftsort = merge_sort(left)\n",
    "    rightsort = merge_sort(right)\n",
    "    #Merge\n",
    "    merged_arr = []\n",
    "    i=0\n",
    "    j=0\n",
    "    while i<len(leftsort) and j<len(rightsort):\n",
    "        if leftsort[i]<rightsort[j]:\n",
    "            merged_arr.append(leftsort[i])\n",
    "            i+=1\n",
    "        else:\n",
    "            merged_arr.append(rightsort[j])\n",
    "            j+=1\n",
    "    #Check for leftover elements\n",
    "    while i<len(leftsort):\n",
    "        merged_arr.append(leftsort[i])\n",
    "        i+=1\n",
    "    while j<len(rightsort):\n",
    "        merged_arr.append(rightsort[j])\n",
    "        j+=1\n",
    "    return merged_arr"
   ]
  },
  {
   "cell_type": "code",
   "execution_count": 13,
   "metadata": {},
   "outputs": [
    {
     "data": {
      "text/plain": [
       "[57, 42, 63, 32, 130, 6, 23, 45]"
      ]
     },
     "execution_count": 13,
     "metadata": {},
     "output_type": "execute_result"
    }
   ],
   "source": [
    "inp"
   ]
  },
  {
   "cell_type": "code",
   "execution_count": 14,
   "metadata": {
    "scrolled": true
   },
   "outputs": [
    {
     "data": {
      "text/plain": [
       "[6, 23, 32, 42, 45, 57, 63, 130]"
      ]
     },
     "execution_count": 14,
     "metadata": {},
     "output_type": "execute_result"
    }
   ],
   "source": [
    "merge_sort(inp)"
   ]
  },
  {
   "cell_type": "markdown",
   "metadata": {},
   "source": [
    "# 3. Counting Array Inversions"
   ]
  },
  {
   "cell_type": "markdown",
   "metadata": {},
   "source": [
    "### Double Loop (Brute Force)"
   ]
  },
  {
   "cell_type": "code",
   "execution_count": 15,
   "metadata": {},
   "outputs": [],
   "source": [
    "def bruteforce_count_inversions(arr2):\n",
    "    #Brute Force Method\n",
    "    arr = arr2.copy()\n",
    "    tot_inversions = 0\n",
    "#     inversion_list = []\n",
    "    for i in range(len(arr)):\n",
    "        for j in range(i,len(arr)):\n",
    "            if arr[i]>arr[j]:\n",
    "#                 inversion_list.append((arr[i],arr[j]))\n",
    "                tot_inversions+=1\n",
    "    return tot_inversions\n",
    "#     return tot_inversions, inversion_list"
   ]
  },
  {
   "cell_type": "code",
   "execution_count": 16,
   "metadata": {},
   "outputs": [
    {
     "data": {
      "text/plain": [
       "3"
      ]
     },
     "execution_count": 16,
     "metadata": {},
     "output_type": "execute_result"
    }
   ],
   "source": [
    "bruteforce_count_inversions([1,3,5,2,4,6])"
   ]
  },
  {
   "cell_type": "code",
   "execution_count": 17,
   "metadata": {},
   "outputs": [
    {
     "data": {
      "text/plain": [
       "6"
      ]
     },
     "execution_count": 17,
     "metadata": {},
     "output_type": "execute_result"
    }
   ],
   "source": [
    "bruteforce_count_inversions([8,4,2,1])"
   ]
  },
  {
   "cell_type": "markdown",
   "metadata": {},
   "source": [
    "### Divide & Conquer (Merge Sort Based)"
   ]
  },
  {
   "cell_type": "markdown",
   "metadata": {},
   "source": [
    "High Level Algorithm:\n",
    "```python\n",
    "def count_inversions(arr2):\n",
    "    arr = arr2.copy()\n",
    "    n = len(arr)\n",
    "    split = n//2\n",
    "    if n==1:\n",
    "        return 0\n",
    "    left_inv = count_inversions(arr[:split])\n",
    "    right_inv = count_inversions(arr[split:])\n",
    "    split_inv = count_split_inversions(arr)\n",
    "    tot_inversions = left_inv + right_inv + split_inv\n",
    "    return tot_inversions\n",
    "```\n",
    "\n",
    "We wanna implement count_split_inversions in linear time. For this, we'll piggyback on the merge sort."
   ]
  },
  {
   "cell_type": "code",
   "execution_count": 18,
   "metadata": {},
   "outputs": [],
   "source": [
    "def sort_and_count_inv(arr2):\n",
    "    '''\n",
    "    Returns sorted array, number of inversions\n",
    "    '''\n",
    "    arr = copy.deepcopy(arr2)\n",
    "    n = len(arr)\n",
    "    split = n//2\n",
    "    #Base Case\n",
    "    if n==1:\n",
    "        return arr, 0\n",
    "    \n",
    "    #Split and count left and right inversions\n",
    "    left = arr[:split]\n",
    "    right = arr[split:]\n",
    "    leftsort,left_inv = sort_and_count_inv(left)\n",
    "    rightsort,right_inv = sort_and_count_inv(right)\n",
    "    \n",
    "    #Counting split inversions: While Merging\n",
    "    split_inv = 0\n",
    "    merged_arr = []\n",
    "    i=0\n",
    "    j=0\n",
    "    while i<len(leftsort) and j<len(rightsort):\n",
    "        if leftsort[i]<rightsort[j]:\n",
    "            merged_arr.append(leftsort[i])\n",
    "            i+=1\n",
    "        else:\n",
    "            merged_arr.append(rightsort[j])\n",
    "            split_inv = split_inv + (len(leftsort) - i)         #The right quantity is the number of elements in leftsort\n",
    "#                                                                    that have not been added to merged_arr yet.\n",
    "            j+=1\n",
    "    #Check for leftover elements\n",
    "    while i<len(leftsort):\n",
    "        merged_arr.append(leftsort[i])\n",
    "        i+=1\n",
    "    while j<len(rightsort):\n",
    "        merged_arr.append(rightsort[j])\n",
    "        j+=1\n",
    "        \n",
    "    tot_inv = left_inv + right_inv + split_inv\n",
    "    return merged_arr, tot_inv"
   ]
  },
  {
   "cell_type": "code",
   "execution_count": 19,
   "metadata": {},
   "outputs": [
    {
     "data": {
      "text/plain": [
       "3"
      ]
     },
     "execution_count": 19,
     "metadata": {},
     "output_type": "execute_result"
    }
   ],
   "source": [
    "sort_and_count_inv([1,3,5,2,4,6])[1]"
   ]
  },
  {
   "cell_type": "code",
   "execution_count": 20,
   "metadata": {},
   "outputs": [
    {
     "data": {
      "text/plain": [
       "6"
      ]
     },
     "execution_count": 20,
     "metadata": {},
     "output_type": "execute_result"
    }
   ],
   "source": [
    "sort_and_count_inv([8,4,2,1])[1]"
   ]
  },
  {
   "cell_type": "code",
   "execution_count": 21,
   "metadata": {},
   "outputs": [
    {
     "name": "stdout",
     "output_type": "stream",
     "text": [
      "Let's compare the times for a random array of length 10000\n",
      "Answer 1 = 24, Time 1 = 0.0s\n",
      "Answer 2 = 24, Time 2 = 0.0s\n"
     ]
    }
   ],
   "source": [
    "print(\"Let's compare the times for a random array of length 10000\")\n",
    "k = list(np.random.rand(10))\n",
    "# k = list(np.random.rand(10000))\n",
    "\n",
    "\n",
    "t1 = process_time()\n",
    "ans1 = sort_and_count_inv(k)[1]\n",
    "t2 = process_time()\n",
    "print(f\"Answer 1 = {ans1}, Time 1 = {t2-t1}s\")\n",
    "\n",
    "t3 = process_time()\n",
    "ans2 = bruteforce_count_inversions(k)\n",
    "t4 = process_time()\n",
    "print(f\"Answer 2 = {ans2}, Time 2 = {t4-t3}s\")"
   ]
  },
  {
   "cell_type": "code",
   "execution_count": 22,
   "metadata": {},
   "outputs": [],
   "source": [
    "# #https://www.coursera.org/learn/algorithms-divide-conquer/exam/YLbzP/programming-assignment-2/attempt\n",
    "# with open(r\"C:\\Users\\Sid\\Desktop\\array_list.txt\",\"r\") as fp:\n",
    "#     arr = np.loadtxt(fp)\n",
    "#     print(sort_and_count_inv(arr)[1])\n",
    "\n",
    "# #Answer is 2407905288"
   ]
  },
  {
   "cell_type": "markdown",
   "metadata": {},
   "source": [
    "# 4. Matrix Multiplication\n",
    "\n",
    "We'll assume the matrices are square (n $\\times$ n matrices), but all of the below can be generalised for n $ \\times $ m as well.\n",
    "\n",
    "Further, we have not used numpy. We could use that, and the code would become significantly shorter. But, the main reason for not using numpy is consistency - if we were to use numpy, why not just use np.dot instead? Thus we've worked with the default python lists."
   ]
  },
  {
   "cell_type": "markdown",
   "metadata": {},
   "source": [
    "### Definition Based"
   ]
  },
  {
   "cell_type": "code",
   "execution_count": 23,
   "metadata": {},
   "outputs": [],
   "source": [
    "arr1 = [[1, 2, 3,4], [5, 6,7,8],[9,10,11,12],[13,14,15,16]]\n",
    "arr2 = [[3,4,1,6], [9,2,5,7],[1,10,3,7],[9,1,2,1]]"
   ]
  },
  {
   "cell_type": "code",
   "execution_count": 24,
   "metadata": {},
   "outputs": [],
   "source": [
    "def standard_matmul(A,B):\n",
    "    n = len(A)\n",
    "    assert len(B)==n\n",
    "    \n",
    "    C = copy.deepcopy(A)\n",
    "    for i in range(n):\n",
    "        for j in range(n):\n",
    "            C[i][j] = 0\n",
    "            for k in range(n):\n",
    "                C[i][j] += A[i][k]*B[k][j]\n",
    "    return C"
   ]
  },
  {
   "cell_type": "code",
   "execution_count": 25,
   "metadata": {},
   "outputs": [
    {
     "data": {
      "text/plain": [
       "array([[ 60,  42,  28,  45],\n",
       "       [148, 110,  72, 129],\n",
       "       [236, 178, 116, 213],\n",
       "       [324, 246, 160, 297]])"
      ]
     },
     "execution_count": 25,
     "metadata": {},
     "output_type": "execute_result"
    }
   ],
   "source": [
    "np.dot(arr1,arr2)"
   ]
  },
  {
   "cell_type": "code",
   "execution_count": 26,
   "metadata": {},
   "outputs": [
    {
     "data": {
      "text/plain": [
       "[[60, 42, 28, 45],\n",
       " [148, 110, 72, 129],\n",
       " [236, 178, 116, 213],\n",
       " [324, 246, 160, 297]]"
      ]
     },
     "execution_count": 26,
     "metadata": {},
     "output_type": "execute_result"
    }
   ],
   "source": [
    "standard_matmul(arr1,arr2)"
   ]
  },
  {
   "cell_type": "markdown",
   "metadata": {},
   "source": [
    "### Simple Recursion: 8 Recursive Calls"
   ]
  },
  {
   "cell_type": "code",
   "execution_count": 27,
   "metadata": {},
   "outputs": [],
   "source": [
    "def split_arr(arr):\n",
    "    A,B,C,D = [],[],[],[]\n",
    "    n=len(arr)\n",
    "    for i in range(n):\n",
    "        templistA,templistB,templistC,templistD = [],[],[],[]\n",
    "        if i<n//2:\n",
    "            for j in range(n):\n",
    "                    if j<n//2:\n",
    "                        templistA.append(arr[i][j])\n",
    "                    else:\n",
    "                        templistB.append(arr[i][j])\n",
    "            A.append(templistA)\n",
    "            B.append(templistB)\n",
    "        else:\n",
    "            for j in range(n):\n",
    "                    if j<n//2:\n",
    "                        templistC.append(arr[i][j])\n",
    "                    else:\n",
    "                        templistD.append(arr[i][j])\n",
    "            C.append(templistC)\n",
    "            D.append(templistD)\n",
    "    return A,B,C,D\n",
    "\n",
    "def merge_arr(A,B,C,D):\n",
    "    if type(A)==int and type(B)==int and type(C)==int and type(D)==int:\n",
    "        return [[A,B],[C,D]]\n",
    "    \n",
    "    midn = len(A)\n",
    "    n = 2*midn\n",
    "    arr = [[0 for j in range(0, n)] for i in range(0, n)]\n",
    "    \n",
    "    for i in range(0, midn):\n",
    "        for j in range(0, midn):\n",
    "            arr[i][j] = A[i][j]\n",
    "            arr[i][j + midn] = B[i][j]\n",
    "            arr[i + midn][j] = C[i][j]\n",
    "            arr[i + midn][j + midn] = D[i][j]\n",
    "    return arr\n",
    "\n",
    "\n",
    "def add_matrix(X,Y):\n",
    "    if type(X)==int and type(Y)==int:\n",
    "        return X+Y\n",
    "    assert len(X)==len(Y)\n",
    "    n = len(X)\n",
    "    \n",
    "    Z = copy.deepcopy(X)\n",
    "    \n",
    "    for i in range(n):\n",
    "        for j in range(n):\n",
    "            Z[i][j] = X[i][j] + Y[i][j]\n",
    "    return Z\n",
    "\n",
    "def sub_matrix(X,Y):\n",
    "    if type(X)==int and type(Y)==int:\n",
    "        return X+Y\n",
    "    assert len(X)==len(Y)\n",
    "    n = len(X)\n",
    "    \n",
    "    Z = copy.deepcopy(X)\n",
    "    \n",
    "    for i in range(n):\n",
    "        for j in range(n):\n",
    "            Z[i][j] = X[i][j] - Y[i][j]\n",
    "    return Z"
   ]
  },
  {
   "cell_type": "code",
   "execution_count": 28,
   "metadata": {},
   "outputs": [],
   "source": [
    "def rec_matmul(X,Y):\n",
    "    assert len(X)==len(Y)\n",
    "    n = len(X)\n",
    "    if n==1:\n",
    "        return X[0][0]*Y[0][0]\n",
    "    \n",
    "    A,B,C,D = split_arr(X)\n",
    "    E,F,G,H = split_arr(Y)\n",
    "    \n",
    "    AE = rec_matmul(A,E)\n",
    "    BG = rec_matmul(B,G)\n",
    "    AF = rec_matmul(A,F)\n",
    "    BH = rec_matmul(B,H)\n",
    "    CE = rec_matmul(C,E)\n",
    "    DG = rec_matmul(D,G)\n",
    "    CF = rec_matmul(C,F)\n",
    "    DH = rec_matmul(D,H)\n",
    "\n",
    "    L1 = add_matrix(AE, BG)\n",
    "    L2 = add_matrix(AF, BH)\n",
    "    L3 = add_matrix(CE, DG)\n",
    "    L4 = add_matrix(CF, DH)\n",
    "\n",
    "    fin_arr = merge_arr(L1,L2,L3,L4)\n",
    "    \n",
    "    return fin_arr"
   ]
  },
  {
   "cell_type": "code",
   "execution_count": 29,
   "metadata": {
    "scrolled": true
   },
   "outputs": [
    {
     "data": {
      "text/plain": [
       "[[60, 42, 28, 45],\n",
       " [148, 110, 72, 129],\n",
       " [236, 178, 116, 213],\n",
       " [324, 246, 160, 297]]"
      ]
     },
     "execution_count": 29,
     "metadata": {},
     "output_type": "execute_result"
    }
   ],
   "source": [
    "rec_matmul(arr1,arr2)"
   ]
  },
  {
   "cell_type": "markdown",
   "metadata": {},
   "source": [
    "### Strassen's Algorithm"
   ]
  },
  {
   "cell_type": "code",
   "execution_count": 30,
   "metadata": {},
   "outputs": [],
   "source": [
    "def strassen(X,Y):\n",
    "    assert len(X)==len(Y)\n",
    "    n = len(X)\n",
    "    if n==1:\n",
    "        return X[0][0]*Y[0][0]\n",
    "    \n",
    "    A,B,C,D = split_arr(X)\n",
    "    E,F,G,H = split_arr(Y)\n",
    "    \n",
    "    P1 = rec_matmul(A,sub_matrix(F,H))\n",
    "    P2 = rec_matmul(add_matrix(A,B),H)\n",
    "    P3 = rec_matmul(add_matrix(C,D),E)\n",
    "    P4 = rec_matmul(D,sub_matrix(G,E))\n",
    "    P5 = rec_matmul(add_matrix(A,D),add_matrix(E,H))\n",
    "    P6 = rec_matmul(sub_matrix(B,D),add_matrix(G,H))\n",
    "    P7 = rec_matmul(sub_matrix(A,C),add_matrix(E,F))\n",
    "\n",
    "    L1 = sub_matrix(add_matrix(add_matrix(P4, P5),P6),P2)\n",
    "    L2 = add_matrix(P1, P2)\n",
    "    L3 = add_matrix(P3, P4)\n",
    "    L4 = sub_matrix(add_matrix(P1, P5),add_matrix(P3, P7))\n",
    "\n",
    "    fin_arr = merge_arr(L1,L2,L3,L4)\n",
    "    \n",
    "    return fin_arr"
   ]
  },
  {
   "cell_type": "code",
   "execution_count": 31,
   "metadata": {
    "scrolled": true
   },
   "outputs": [
    {
     "data": {
      "text/plain": [
       "[[60, 42, 28, 45],\n",
       " [148, 110, 72, 129],\n",
       " [236, 178, 116, 213],\n",
       " [324, 246, 160, 297]]"
      ]
     },
     "execution_count": 31,
     "metadata": {},
     "output_type": "execute_result"
    }
   ],
   "source": [
    "strassen(arr1,arr2)"
   ]
  },
  {
   "cell_type": "markdown",
   "metadata": {},
   "source": [
    "# 5. Closest Pairs"
   ]
  },
  {
   "cell_type": "markdown",
   "metadata": {},
   "source": [
    "## 1D Case"
   ]
  },
  {
   "cell_type": "markdown",
   "metadata": {},
   "source": [
    "We want to find the pair of points which are located closest to each other, in the whole set. Here, the pts are 1D and thus each point has 1 coordinate associated with it"
   ]
  },
  {
   "cell_type": "markdown",
   "metadata": {},
   "source": [
    "### Brute Force"
   ]
  },
  {
   "cell_type": "code",
   "execution_count": 32,
   "metadata": {},
   "outputs": [],
   "source": [
    "given_pts1d = [1.34, 3.84, 9.72, 10.69, 6.81, 14.2]"
   ]
  },
  {
   "cell_type": "code",
   "execution_count": 33,
   "metadata": {},
   "outputs": [],
   "source": [
    "def brute_closestpair1d(arr):\n",
    "    mindist = abs(arr[1] - arr[0]) #The euclidean dist.\n",
    "    minpts = [arr[0],arr[1]]   #The 2 pts which are closest.\n",
    "    for i in range(len(arr)):\n",
    "        for j in range(i+1,len(arr)):\n",
    "            dist = abs(arr[i]-arr[j])\n",
    "            if dist<mindist:\n",
    "                minpts=[arr[i],arr[j]]\n",
    "                mindist = dist\n",
    "    return minpts, mindist            #minpts is of form [pt1, pt2]"
   ]
  },
  {
   "cell_type": "code",
   "execution_count": 34,
   "metadata": {},
   "outputs": [
    {
     "data": {
      "text/plain": [
       "([9.72, 10.69], 0.9699999999999989)"
      ]
     },
     "execution_count": 34,
     "metadata": {},
     "output_type": "execute_result"
    }
   ],
   "source": [
    "brute_closestpair1d(given_pts1d)"
   ]
  },
  {
   "cell_type": "code",
   "execution_count": 35,
   "metadata": {},
   "outputs": [
    {
     "data": {
      "text/plain": [
       "0.9699999999999989"
      ]
     },
     "execution_count": 35,
     "metadata": {},
     "output_type": "execute_result"
    }
   ],
   "source": [
    "10.69 - 9.72"
   ]
  },
  {
   "cell_type": "markdown",
   "metadata": {},
   "source": [
    "This algorithm has $\\mathcal{O}(n^2)$ time complexity. We can do better by sorting it."
   ]
  },
  {
   "cell_type": "markdown",
   "metadata": {},
   "source": [
    "### Using Merge Sort"
   ]
  },
  {
   "cell_type": "markdown",
   "metadata": {},
   "source": [
    "If we sort them, using merge-sort, we take $\\mathcal{O}(n \\log{n} )$ time . Then, finding the closest pair can be done in $\\mathcal{O}(n)$ time as follows. "
   ]
  },
  {
   "cell_type": "code",
   "execution_count": 36,
   "metadata": {},
   "outputs": [],
   "source": [
    "def closestpair1d(arr2):\n",
    "    arr = merge_sort(arr2)\n",
    "    mindist = abs(arr[1] - arr[0]) #The euclidean dist.\n",
    "    minpts = [arr[0],arr[1]]   #The 2 pts which are closest.\n",
    "    for i in range(len(arr)-1):\n",
    "        j = i+1\n",
    "        dist = abs(arr[i]-arr[j])\n",
    "        if dist<mindist:\n",
    "            minpts=[arr[i],arr[j]]\n",
    "            mindist = dist\n",
    "    return minpts, mindist            #minpts is of form [pt1, pt2]"
   ]
  },
  {
   "cell_type": "code",
   "execution_count": 37,
   "metadata": {},
   "outputs": [
    {
     "data": {
      "text/plain": [
       "([9.72, 10.69], 0.9699999999999989)"
      ]
     },
     "execution_count": 37,
     "metadata": {},
     "output_type": "execute_result"
    }
   ],
   "source": [
    "closestpair1d(given_pts1d)"
   ]
  },
  {
   "cell_type": "markdown",
   "metadata": {},
   "source": [
    "## 2D Case"
   ]
  },
  {
   "cell_type": "markdown",
   "metadata": {},
   "source": [
    "We are given n points in the plane and you want to figure out which pair of points are closest to each other."
   ]
  },
  {
   "cell_type": "markdown",
   "metadata": {},
   "source": [
    "### Brute Force"
   ]
  },
  {
   "cell_type": "markdown",
   "metadata": {},
   "source": [
    "This algorithm has $\\mathcal{O}(n^2)$ time complexity."
   ]
  },
  {
   "cell_type": "code",
   "execution_count": 38,
   "metadata": {},
   "outputs": [],
   "source": [
    "given_pts2d = [[2,3], [1,1], [0,0], [3,5], [1,4], [1,0.5]]"
   ]
  },
  {
   "cell_type": "code",
   "execution_count": 39,
   "metadata": {},
   "outputs": [],
   "source": [
    "def dist_2d(p1,p2):\n",
    "    x1,y1 = p1\n",
    "    x2,y2 = p2\n",
    "    dist = math.sqrt((x2-x1)**2 + (y2-y1)**2)\n",
    "    return dist"
   ]
  },
  {
   "cell_type": "code",
   "execution_count": 40,
   "metadata": {},
   "outputs": [],
   "source": [
    "def brute_closestpair2d(arr):\n",
    "    mindist = dist_2d(arr[0],arr[1]) #The euclidean dist.\n",
    "    minpts = [arr[0],arr[1]]   #The 2 pts which are closest.\n",
    "    for i in range(len(arr)):\n",
    "        for j in range(i+1,len(arr)):\n",
    "            dist = dist_2d(arr[j],arr[i])\n",
    "            if dist<mindist:\n",
    "                minpts=[arr[j],arr[i]]\n",
    "                mindist = dist\n",
    "    return minpts, mindist            #minpts is of form [pt1, pt2]"
   ]
  },
  {
   "cell_type": "code",
   "execution_count": 41,
   "metadata": {
    "scrolled": true
   },
   "outputs": [
    {
     "data": {
      "text/plain": [
       "([[1, 0.5], [1, 1]], 0.5)"
      ]
     },
     "execution_count": 41,
     "metadata": {},
     "output_type": "execute_result"
    }
   ],
   "source": [
    "brute_closestpair2d(given_pts2d)"
   ]
  },
  {
   "cell_type": "markdown",
   "metadata": {},
   "source": [
    "### Recursive"
   ]
  },
  {
   "cell_type": "markdown",
   "metadata": {},
   "source": [
    "As in the 1D case, sorting it might be beneficial. Let's try a basic recursive approach. We'll sort in X and Y both (i.e 2 different sorts)"
   ]
  },
  {
   "cell_type": "code",
   "execution_count": 42,
   "metadata": {},
   "outputs": [],
   "source": [
    "def merge_sort_2darr(arr2,sort_index):\n",
    "    assert sort_index==0 or sort_index==1\n",
    "    # Sort index can be 0 or 1, i.e x and y coordinate on whose basis the array is to be sorted.\n",
    "    arr = copy.deepcopy(arr2)\n",
    "    n = len(arr)\n",
    "    split = n//2\n",
    "    #Base Case\n",
    "    if n==1:\n",
    "        return arr\n",
    "    \n",
    "    #Split\n",
    "    left = arr[:split]\n",
    "    right = arr[split:]\n",
    "    leftsort = merge_sort_2darr(left, sort_index)\n",
    "    rightsort = merge_sort_2darr(right, sort_index)\n",
    "    #Merge\n",
    "    merged_arr = []\n",
    "    i=0\n",
    "    j=0\n",
    "    while i<len(leftsort) and j<len(rightsort):\n",
    "        if leftsort[i][sort_index]<rightsort[j][sort_index]:\n",
    "            merged_arr.append(leftsort[i])\n",
    "            i+=1\n",
    "        else:\n",
    "            merged_arr.append(rightsort[j])\n",
    "            j+=1\n",
    "    #Check for leftover elements\n",
    "    while i<len(leftsort):\n",
    "        merged_arr.append(leftsort[i])\n",
    "        i+=1\n",
    "    while j<len(rightsort):\n",
    "        merged_arr.append(rightsort[j])\n",
    "        j+=1\n",
    "    return merged_arr\n"
   ]
  },
  {
   "cell_type": "code",
   "execution_count": 43,
   "metadata": {},
   "outputs": [],
   "source": [
    "def closest_pair(Px,Py):\n",
    "    '''Inputs are:\n",
    "    Px: Sorted arr in x coordinate\n",
    "    Py: Sorted arr in y coordinate\n",
    "    '''\n",
    "    n = len(Px)\n",
    "    #Base case: Brute force for n=2or 3\n",
    "    if n<=3:\n",
    "        return brute_closestpair2d(Px)\n",
    "        \n",
    "    #End of base case\n",
    "    \n",
    "    #Let Q = left half and R = right half\n",
    "    Qx = Px[:n//2]\n",
    "    Rx = Px[n//2:]\n",
    "    \n",
    "    Qy = Py[:n//2]\n",
    "    Ry = Py[n//2:]\n",
    "    \n",
    "    #Lucky case: The closest pair is not split.\n",
    "    minpts1,d1 = closest_pair(Qx, Qy)\n",
    "    minpts2,d2 = closest_pair(Rx, Ry)\n",
    "    \n",
    "    delta = min(d1,d2)\n",
    "    \n",
    "    #Unlucky case: The closes pair is split, i.e, one pt is in left half, other in right half\n",
    "    minpts3,d3 = closest_split_pair(Px, Py, delta)\n",
    "    \n",
    "    mindist = min(d1,d2,d3)\n",
    "    \n",
    "    if mindist == d1:\n",
    "        return minpts1,d1\n",
    "    elif mindist == d2:\n",
    "        return minpts2,d2\n",
    "    else:\n",
    "        assert minpts3 is not None\n",
    "        return minpts3,d3\n"
   ]
  },
  {
   "cell_type": "code",
   "execution_count": 44,
   "metadata": {},
   "outputs": [],
   "source": [
    "def closest_split_pair(Px, Py, delta):\n",
    "    n = len(Px)\n",
    "    xbar = Px[n//2][0]\n",
    "    Sy = []\n",
    "    for pt in Px:\n",
    "        if xbar - delta <= pt[0] <= xbar + delta :\n",
    "            Sy.append(pt)\n",
    "    mindist = delta\n",
    "    minpts = None \n",
    "\n",
    "    Sy = merge_sort_2darr(Sy,1)\n",
    "    for i in range(len(Sy)):\n",
    "        for j in range(i+1, len(Sy)): \n",
    "            if Sy[j][1] - Sy[i][1] > delta:\n",
    "                break\n",
    "            p = Sy[i] \n",
    "            q = Sy[j] \n",
    "            dist = dist_2d(p, q) \n",
    "            if dist < mindist:\n",
    "                mindist = dist \n",
    "                minpts = [p,q]\n",
    "    \n",
    "    return minpts, mindist\n"
   ]
  },
  {
   "cell_type": "code",
   "execution_count": 45,
   "metadata": {},
   "outputs": [],
   "source": [
    "def final_solve_closestpairs(arr2):\n",
    "    arr = copy.deepcopy(arr2)\n",
    "    Px = merge_sort_2darr(arr,0)\n",
    "    Py = merge_sort_2darr(arr,1)\n",
    "    return closest_pair(Px, Py)"
   ]
  },
  {
   "cell_type": "code",
   "execution_count": 46,
   "metadata": {},
   "outputs": [
    {
     "data": {
      "text/plain": [
       "([[1, 0.5], [1, 1]], 0.5)"
      ]
     },
     "execution_count": 46,
     "metadata": {},
     "output_type": "execute_result"
    }
   ],
   "source": [
    "final_solve_closestpairs(given_pts2d)"
   ]
  },
  {
   "cell_type": "code",
   "execution_count": null,
   "metadata": {},
   "outputs": [],
   "source": []
  }
 ],
 "metadata": {
  "kernelspec": {
   "display_name": "Python 3",
   "language": "python",
   "name": "python3"
  },
  "language_info": {
   "codemirror_mode": {
    "name": "ipython",
    "version": 3
   },
   "file_extension": ".py",
   "mimetype": "text/x-python",
   "name": "python",
   "nbconvert_exporter": "python",
   "pygments_lexer": "ipython3",
   "version": "3.7.7"
  },
  "varInspector": {
   "cols": {
    "lenName": 16,
    "lenType": 16,
    "lenVar": 40
   },
   "kernels_config": {
    "python": {
     "delete_cmd_postfix": "",
     "delete_cmd_prefix": "del ",
     "library": "var_list.py",
     "varRefreshCmd": "print(var_dic_list())"
    },
    "r": {
     "delete_cmd_postfix": ") ",
     "delete_cmd_prefix": "rm(",
     "library": "var_list.r",
     "varRefreshCmd": "cat(var_dic_list()) "
    }
   },
   "types_to_exclude": [
    "module",
    "function",
    "builtin_function_or_method",
    "instance",
    "_Feature"
   ],
   "window_display": false
  }
 },
 "nbformat": 4,
 "nbformat_minor": 4
}
