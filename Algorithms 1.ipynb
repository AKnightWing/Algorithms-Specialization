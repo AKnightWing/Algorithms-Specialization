{
 "cells": [
  {
   "cell_type": "code",
   "execution_count": 18,
   "metadata": {},
   "outputs": [],
   "source": [
    "import copy\n",
    "from decimal import Decimal"
   ]
  },
  {
   "cell_type": "markdown",
   "metadata": {},
   "source": [
    "# 1. Multiplication"
   ]
  },
  {
   "cell_type": "code",
   "execution_count": 19,
   "metadata": {},
   "outputs": [
    {
     "data": {
      "text/plain": [
       "7006652"
      ]
     },
     "execution_count": 19,
     "metadata": {},
     "output_type": "execute_result"
    }
   ],
   "source": [
    "x = 5678\n",
    "y = 1234\n",
    "x*y"
   ]
  },
  {
   "cell_type": "markdown",
   "metadata": {},
   "source": [
    "### Simple Loop"
   ]
  },
  {
   "cell_type": "code",
   "execution_count": 20,
   "metadata": {},
   "outputs": [],
   "source": [
    "def simple_loop_mult(x,y):\n",
    "    '''\n",
    "    Works only for integers.\n",
    "    '''\n",
    "    minnum = min(x,y)\n",
    "    maxnum = max(x,y)\n",
    "    s=0\n",
    "    for i in range (minnum):\n",
    "        s+= maxnum\n",
    "    return s"
   ]
  },
  {
   "cell_type": "code",
   "execution_count": 21,
   "metadata": {},
   "outputs": [
    {
     "data": {
      "text/plain": [
       "7006652"
      ]
     },
     "execution_count": 21,
     "metadata": {},
     "output_type": "execute_result"
    }
   ],
   "source": [
    "simple_loop_mult(x,y)"
   ]
  },
  {
   "cell_type": "markdown",
   "metadata": {},
   "source": [
    "### Karatsuba's Algorithm"
   ]
  },
  {
   "cell_type": "code",
   "execution_count": 166,
   "metadata": {},
   "outputs": [],
   "source": [
    "def karatsuba(x,y):\n",
    "    if x<10 and y<10:\n",
    "        return x*y\n",
    "    if x>y:\n",
    "        max_length = len(str(x))\n",
    "        max_num = x\n",
    "        min_num = y\n",
    "    else:\n",
    "        max_length = len(str(y))\n",
    "        max_num = y\n",
    "        min_num = x\n",
    "    if max_length%2==0:\n",
    "        first_multiplier = max_length\n",
    "    else:\n",
    "        first_multiplier = max_length - 1\n",
    "    div_length = max_length//2\n",
    "    a = x//(10**div_length)\n",
    "    b = x%(10**div_length)\n",
    "    c = y//(10**div_length)\n",
    "    d = y%(10**div_length)\n",
    "    ac = karatsuba(a,c)\n",
    "    bd = karatsuba(b,d)\n",
    "    sumterm = karatsuba(a+b,c+d)\n",
    "    leftoversum = sumterm - ac - bd\n",
    "    \n",
    "    product = (10**first_multiplier*ac) + (10**div_length*leftoversum) + bd\n",
    "    return product"
   ]
  },
  {
   "cell_type": "code",
   "execution_count": 168,
   "metadata": {},
   "outputs": [
    {
     "data": {
      "text/plain": [
       "8539734222673567065463550869546574495034888535765114961879601127067743044893204848617875072216249073013374895871952806582723184"
      ]
     },
     "execution_count": 168,
     "metadata": {},
     "output_type": "execute_result"
    }
   ],
   "source": [
    "#https://www.coursera.org/learn/algorithms-divide-conquer/exam/srsxO/programming-assignment-1/attempt\n",
    "n1 = 3141592653589793238462643383279502884197169399375105820974944592\n",
    "n2 = 2718281828459045235360287471352662497757247093699959574966967627\n",
    "karatsuba(n1,n2)"
   ]
  },
  {
   "cell_type": "markdown",
   "metadata": {},
   "source": [
    "# 2. Merge Sort"
   ]
  },
  {
   "cell_type": "code",
   "execution_count": 207,
   "metadata": {},
   "outputs": [],
   "source": [
    "inp = [57,42,63,32,130,6,23,45]"
   ]
  },
  {
   "cell_type": "code",
   "execution_count": 208,
   "metadata": {},
   "outputs": [
    {
     "data": {
      "text/plain": [
       "[6, 23, 32, 42, 45, 57, 63, 130]"
      ]
     },
     "execution_count": 208,
     "metadata": {},
     "output_type": "execute_result"
    }
   ],
   "source": [
    "sorted(inp)"
   ]
  },
  {
   "cell_type": "code",
   "execution_count": 252,
   "metadata": {},
   "outputs": [],
   "source": [
    "def merge_sort(arr2):\n",
    "    arr = copy.deepcopy(arr2)\n",
    "    n = len(arr)\n",
    "    split = n//2\n",
    "    #Base Case\n",
    "    if n==1:\n",
    "        return arr\n",
    "    \n",
    "    #Split\n",
    "    left = arr[:split]\n",
    "    right = arr[split:]\n",
    "    leftsort = merge_sort(left)\n",
    "    rightsort = merge_sort(right)\n",
    "    #Merge\n",
    "    merged_arr = []\n",
    "    i=0\n",
    "    j=0\n",
    "    while i<len(leftsort) and j<len(rightsort):\n",
    "        if leftsort[i]<rightsort[j]:\n",
    "            merged_arr.append(leftsort[i])\n",
    "            i+=1\n",
    "        else:\n",
    "            merged_arr.append(rightsort[j])\n",
    "            j+=1\n",
    "    #Check for leftover elements\n",
    "    while i<len(leftsort):\n",
    "        merged_arr.append(leftsort[i])\n",
    "        i+=1\n",
    "    while j<len(rightsort):\n",
    "        merged_arr.append(rightsort[j])\n",
    "        j+=1\n",
    "    return merged_arr"
   ]
  },
  {
   "cell_type": "code",
   "execution_count": 253,
   "metadata": {},
   "outputs": [
    {
     "data": {
      "text/plain": [
       "[57, 42, 63, 32, 130, 6, 23, 45]"
      ]
     },
     "execution_count": 253,
     "metadata": {},
     "output_type": "execute_result"
    }
   ],
   "source": [
    "inp"
   ]
  },
  {
   "cell_type": "code",
   "execution_count": 254,
   "metadata": {
    "scrolled": true
   },
   "outputs": [
    {
     "data": {
      "text/plain": [
       "[6, 23, 32, 42, 45, 57, 63, 130]"
      ]
     },
     "execution_count": 254,
     "metadata": {},
     "output_type": "execute_result"
    }
   ],
   "source": [
    "merge_sort(inp)"
   ]
  }
 ],
 "metadata": {
  "kernelspec": {
   "display_name": "Python 3",
   "language": "python",
   "name": "python3"
  },
  "language_info": {
   "codemirror_mode": {
    "name": "ipython",
    "version": 3
   },
   "file_extension": ".py",
   "mimetype": "text/x-python",
   "name": "python",
   "nbconvert_exporter": "python",
   "pygments_lexer": "ipython3",
   "version": "3.7.4"
  },
  "varInspector": {
   "cols": {
    "lenName": 16,
    "lenType": 16,
    "lenVar": 40
   },
   "kernels_config": {
    "python": {
     "delete_cmd_postfix": "",
     "delete_cmd_prefix": "del ",
     "library": "var_list.py",
     "varRefreshCmd": "print(var_dic_list())"
    },
    "r": {
     "delete_cmd_postfix": ") ",
     "delete_cmd_prefix": "rm(",
     "library": "var_list.r",
     "varRefreshCmd": "cat(var_dic_list()) "
    }
   },
   "types_to_exclude": [
    "module",
    "function",
    "builtin_function_or_method",
    "instance",
    "_Feature"
   ],
   "window_display": false
  }
 },
 "nbformat": 4,
 "nbformat_minor": 4
}
